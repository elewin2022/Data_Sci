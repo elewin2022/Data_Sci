{
  "nbformat": 4,
  "nbformat_minor": 0,
  "metadata": {
    "colab": {
      "provenance": [],
      "authorship_tag": "ABX9TyPGXMcnzP+zj2Jcjbqpr4ha",
      "include_colab_link": true
    },
    "kernelspec": {
      "name": "python3",
      "display_name": "Python 3"
    },
    "language_info": {
      "name": "python"
    }
  },
  "cells": [
    {
      "cell_type": "markdown",
      "metadata": {
        "id": "view-in-github",
        "colab_type": "text"
      },
      "source": [
        "<a href=\"https://colab.research.google.com/github/elewin2022/Data_Sci/blob/main/Lewin_Lab_2.ipynb\" target=\"_parent\"><img src=\"https://colab.research.google.com/assets/colab-badge.svg\" alt=\"Open In Colab\"/></a>"
      ]
    },
    {
      "cell_type": "code",
      "execution_count": null,
      "metadata": {
        "id": "fqai1rSZyUmB"
      },
      "outputs": [],
      "source": []
    },
    {
      "cell_type": "markdown",
      "source": [
        "#Lab Round 2"
      ],
      "metadata": {
        "id": "jT1l5jJuyYQg"
      }
    },
    {
      "cell_type": "code",
      "source": [],
      "metadata": {
        "id": "RtDKBJd6yajP"
      },
      "execution_count": null,
      "outputs": []
    }
  ]
}